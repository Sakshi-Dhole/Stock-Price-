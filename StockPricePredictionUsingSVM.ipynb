{
 "cells": [
  {
   "cell_type": "code",
   "execution_count": 45,
   "id": "2a3c954a-7876-49cb-8410-d31e5a058794",
   "metadata": {},
   "outputs": [
    {
     "name": "stdout",
     "output_type": "stream",
     "text": [
      "Requirement already satisfied: seaborn in c:\\users\\sakshi dhole\\.conda\\ana\\lib\\site-packages (0.13.2)\n",
      "Requirement already satisfied: numpy!=1.24.0,>=1.20 in c:\\users\\sakshi dhole\\.conda\\ana\\lib\\site-packages (from seaborn) (1.26.4)\n",
      "Requirement already satisfied: pandas>=1.2 in c:\\users\\sakshi dhole\\.conda\\ana\\lib\\site-packages (from seaborn) (2.2.2)\n",
      "Requirement already satisfied: matplotlib!=3.6.1,>=3.4 in c:\\users\\sakshi dhole\\.conda\\ana\\lib\\site-packages (from seaborn) (3.8.4)\n",
      "Requirement already satisfied: contourpy>=1.0.1 in c:\\users\\sakshi dhole\\.conda\\ana\\lib\\site-packages (from matplotlib!=3.6.1,>=3.4->seaborn) (1.2.0)\n",
      "Requirement already satisfied: cycler>=0.10 in c:\\users\\sakshi dhole\\.conda\\ana\\lib\\site-packages (from matplotlib!=3.6.1,>=3.4->seaborn) (0.11.0)\n",
      "Requirement already satisfied: fonttools>=4.22.0 in c:\\users\\sakshi dhole\\.conda\\ana\\lib\\site-packages (from matplotlib!=3.6.1,>=3.4->seaborn) (4.51.0)\n",
      "Requirement already satisfied: kiwisolver>=1.3.1 in c:\\users\\sakshi dhole\\.conda\\ana\\lib\\site-packages (from matplotlib!=3.6.1,>=3.4->seaborn) (1.4.4)\n",
      "Requirement already satisfied: packaging>=20.0 in c:\\users\\sakshi dhole\\.conda\\ana\\lib\\site-packages (from matplotlib!=3.6.1,>=3.4->seaborn) (23.2)\n",
      "Requirement already satisfied: pillow>=8 in c:\\users\\sakshi dhole\\.conda\\ana\\lib\\site-packages (from matplotlib!=3.6.1,>=3.4->seaborn) (10.3.0)\n",
      "Requirement already satisfied: pyparsing>=2.3.1 in c:\\users\\sakshi dhole\\.conda\\ana\\lib\\site-packages (from matplotlib!=3.6.1,>=3.4->seaborn) (3.0.9)\n",
      "Requirement already satisfied: python-dateutil>=2.7 in c:\\users\\sakshi dhole\\.conda\\ana\\lib\\site-packages (from matplotlib!=3.6.1,>=3.4->seaborn) (2.9.0.post0)\n",
      "Requirement already satisfied: pytz>=2020.1 in c:\\users\\sakshi dhole\\.conda\\ana\\lib\\site-packages (from pandas>=1.2->seaborn) (2024.1)\n",
      "Requirement already satisfied: tzdata>=2022.7 in c:\\users\\sakshi dhole\\.conda\\ana\\lib\\site-packages (from pandas>=1.2->seaborn) (2023.3)\n",
      "Requirement already satisfied: six>=1.5 in c:\\users\\sakshi dhole\\.conda\\ana\\lib\\site-packages (from python-dateutil>=2.7->matplotlib!=3.6.1,>=3.4->seaborn) (1.16.0)\n",
      "Note: you may need to restart the kernel to use updated packages.\n"
     ]
    }
   ],
   "source": [
    "pip install seaborn\n"
   ]
  },
  {
   "cell_type": "code",
   "execution_count": 46,
   "id": "7bc87123-aa14-4ea9-ad8b-821f9b75e7b0",
   "metadata": {},
   "outputs": [
    {
     "name": "stdout",
     "output_type": "stream",
     "text": [
      "['Solarize_Light2', '_classic_test_patch', '_mpl-gallery', '_mpl-gallery-nogrid', 'bmh', 'classic', 'dark_background', 'fast', 'fivethirtyeight', 'ggplot', 'grayscale', 'seaborn-v0_8', 'seaborn-v0_8-bright', 'seaborn-v0_8-colorblind', 'seaborn-v0_8-dark', 'seaborn-v0_8-dark-palette', 'seaborn-v0_8-darkgrid', 'seaborn-v0_8-deep', 'seaborn-v0_8-muted', 'seaborn-v0_8-notebook', 'seaborn-v0_8-paper', 'seaborn-v0_8-pastel', 'seaborn-v0_8-poster', 'seaborn-v0_8-talk', 'seaborn-v0_8-ticks', 'seaborn-v0_8-white', 'seaborn-v0_8-whitegrid', 'tableau-colorblind10']\n"
     ]
    }
   ],
   "source": [
    "import matplotlib.pyplot as plt\n",
    "\n",
    "print(plt.style.available)\n"
   ]
  },
  {
   "cell_type": "code",
   "execution_count": 47,
   "id": "cad4a3f7-f039-4f3f-80af-115c6c058f09",
   "metadata": {},
   "outputs": [],
   "source": [
    "import pandas as pd\n",
    "import numpy as np\n",
    "import matplotlib.pyplot as plt\n",
    "import seaborn as sns\n",
    "from sklearn.svm import SVC\n",
    "from sklearn.metrics import accuracy_score\n",
    "\n",
    "# Apply Seaborn styling correctly\n",
    "sns.set_style(\"darkgrid\")  # OR plt.style.use(\"seaborn-dark\")\n",
    "\n",
    "# Ignore warnings\n",
    "import warnings\n",
    "warnings.filterwarnings(\"ignore\")\n"
   ]
  },
  {
   "cell_type": "code",
   "execution_count": 48,
   "id": "351ecccc-0fd3-42f0-adeb-e2f57d0f3a34",
   "metadata": {},
   "outputs": [
    {
     "name": "stdout",
     "output_type": "stream",
     "text": [
      "Requirement already satisfied: yfinance in c:\\users\\sakshi dhole\\.conda\\ana\\lib\\site-packages (0.2.54)Note: you may need to restart the kernel to use updated packages.\n",
      "\n",
      "Requirement already satisfied: pandas>=1.3.0 in c:\\users\\sakshi dhole\\.conda\\ana\\lib\\site-packages (from yfinance) (2.2.2)\n",
      "Requirement already satisfied: numpy>=1.16.5 in c:\\users\\sakshi dhole\\.conda\\ana\\lib\\site-packages (from yfinance) (1.26.4)\n",
      "Requirement already satisfied: requests>=2.31 in c:\\users\\sakshi dhole\\.conda\\ana\\lib\\site-packages (from yfinance) (2.32.2)\n",
      "Requirement already satisfied: multitasking>=0.0.7 in c:\\users\\sakshi dhole\\.conda\\ana\\lib\\site-packages (from yfinance) (0.0.11)\n",
      "Requirement already satisfied: platformdirs>=2.0.0 in c:\\users\\sakshi dhole\\.conda\\ana\\lib\\site-packages (from yfinance) (3.10.0)\n",
      "Requirement already satisfied: pytz>=2022.5 in c:\\users\\sakshi dhole\\.conda\\ana\\lib\\site-packages (from yfinance) (2024.1)\n",
      "Requirement already satisfied: frozendict>=2.3.4 in c:\\users\\sakshi dhole\\.conda\\ana\\lib\\site-packages (from yfinance) (2.4.2)\n",
      "Requirement already satisfied: peewee>=3.16.2 in c:\\users\\sakshi dhole\\.conda\\ana\\lib\\site-packages (from yfinance) (3.17.9)\n",
      "Requirement already satisfied: beautifulsoup4>=4.11.1 in c:\\users\\sakshi dhole\\.conda\\ana\\lib\\site-packages (from yfinance) (4.12.3)\n",
      "Requirement already satisfied: soupsieve>1.2 in c:\\users\\sakshi dhole\\.conda\\ana\\lib\\site-packages (from beautifulsoup4>=4.11.1->yfinance) (2.5)\n",
      "Requirement already satisfied: python-dateutil>=2.8.2 in c:\\users\\sakshi dhole\\.conda\\ana\\lib\\site-packages (from pandas>=1.3.0->yfinance) (2.9.0.post0)\n",
      "Requirement already satisfied: tzdata>=2022.7 in c:\\users\\sakshi dhole\\.conda\\ana\\lib\\site-packages (from pandas>=1.3.0->yfinance) (2023.3)\n",
      "Requirement already satisfied: charset-normalizer<4,>=2 in c:\\users\\sakshi dhole\\.conda\\ana\\lib\\site-packages (from requests>=2.31->yfinance) (2.0.4)\n",
      "Requirement already satisfied: idna<4,>=2.5 in c:\\users\\sakshi dhole\\.conda\\ana\\lib\\site-packages (from requests>=2.31->yfinance) (3.7)\n",
      "Requirement already satisfied: urllib3<3,>=1.21.1 in c:\\users\\sakshi dhole\\.conda\\ana\\lib\\site-packages (from requests>=2.31->yfinance) (2.2.2)\n",
      "Requirement already satisfied: certifi>=2017.4.17 in c:\\users\\sakshi dhole\\.conda\\ana\\lib\\site-packages (from requests>=2.31->yfinance) (2024.7.4)\n",
      "Requirement already satisfied: six>=1.5 in c:\\users\\sakshi dhole\\.conda\\ana\\lib\\site-packages (from python-dateutil>=2.8.2->pandas>=1.3.0->yfinance) (1.16.0)\n"
     ]
    }
   ],
   "source": [
    "pip install yfinance"
   ]
  },
  {
   "cell_type": "code",
   "execution_count": 49,
   "id": "91bdfdee-14d3-451d-8602-69af78e7ad7e",
   "metadata": {},
   "outputs": [
    {
     "name": "stderr",
     "output_type": "stream",
     "text": [
      "[*********************100%***********************]  1 of 1 completed"
     ]
    },
    {
     "name": "stdout",
     "output_type": "stream",
     "text": [
      "Data downloaded successfully!\n"
     ]
    },
    {
     "name": "stderr",
     "output_type": "stream",
     "text": [
      "\n"
     ]
    }
   ],
   "source": [
    "import yfinance as yf\n",
    "\n",
    "# Define the stock ticker\n",
    "stock = \"RELIANCE.NS\"\n",
    "\n",
    "# Fetch the past 1-year data\n",
    "data = yf.download(stock, period=\"1y\", interval=\"1d\")\n",
    "\n",
    "# Save to CSV\n",
    "data.to_csv(\"Reliance_1Y_Data.csv\")\n",
    "\n",
    "print(\"Data downloaded successfully!\")\n"
   ]
  },
  {
   "cell_type": "code",
   "execution_count": 50,
   "id": "d11ac90d-af50-4873-9abd-8ea7fafe4ed7",
   "metadata": {},
   "outputs": [
    {
     "data": {
      "text/html": [
       "<div>\n",
       "<style scoped>\n",
       "    .dataframe tbody tr th:only-of-type {\n",
       "        vertical-align: middle;\n",
       "    }\n",
       "\n",
       "    .dataframe tbody tr th {\n",
       "        vertical-align: top;\n",
       "    }\n",
       "\n",
       "    .dataframe thead th {\n",
       "        text-align: right;\n",
       "    }\n",
       "</style>\n",
       "<table border=\"1\" class=\"dataframe\">\n",
       "  <thead>\n",
       "    <tr style=\"text-align: right;\">\n",
       "      <th></th>\n",
       "      <th>Price</th>\n",
       "      <th>Close</th>\n",
       "      <th>High</th>\n",
       "      <th>Low</th>\n",
       "      <th>Open</th>\n",
       "      <th>Volume</th>\n",
       "    </tr>\n",
       "  </thead>\n",
       "  <tbody>\n",
       "    <tr>\n",
       "      <th>0</th>\n",
       "      <td>Ticker</td>\n",
       "      <td>RELIANCE.NS</td>\n",
       "      <td>RELIANCE.NS</td>\n",
       "      <td>RELIANCE.NS</td>\n",
       "      <td>RELIANCE.NS</td>\n",
       "      <td>RELIANCE.NS</td>\n",
       "    </tr>\n",
       "    <tr>\n",
       "      <th>1</th>\n",
       "      <td>Date</td>\n",
       "      <td>NaN</td>\n",
       "      <td>NaN</td>\n",
       "      <td>NaN</td>\n",
       "      <td>NaN</td>\n",
       "      <td>NaN</td>\n",
       "    </tr>\n",
       "    <tr>\n",
       "      <th>2</th>\n",
       "      <td>2024-03-19</td>\n",
       "      <td>1420.4290771484375</td>\n",
       "      <td>1432.737278814348</td>\n",
       "      <td>1412.4561372310984</td>\n",
       "      <td>1423.9172383622733</td>\n",
       "      <td>8275764</td>\n",
       "    </tr>\n",
       "    <tr>\n",
       "      <th>3</th>\n",
       "      <td>2024-03-20</td>\n",
       "      <td>1438.866455078125</td>\n",
       "      <td>1440.1122269007035</td>\n",
       "      <td>1419.2082000493178</td>\n",
       "      <td>1423.1198505777713</td>\n",
       "      <td>8488806</td>\n",
       "    </tr>\n",
       "    <tr>\n",
       "      <th>4</th>\n",
       "      <td>2024-03-21</td>\n",
       "      <td>1446.0670166015625</td>\n",
       "      <td>1452.9686412795918</td>\n",
       "      <td>1439.7883995028772</td>\n",
       "      <td>1447.61182235093</td>\n",
       "      <td>13006936</td>\n",
       "    </tr>\n",
       "    <tr>\n",
       "      <th>...</th>\n",
       "      <td>...</td>\n",
       "      <td>...</td>\n",
       "      <td>...</td>\n",
       "      <td>...</td>\n",
       "      <td>...</td>\n",
       "      <td>...</td>\n",
       "    </tr>\n",
       "    <tr>\n",
       "      <th>245</th>\n",
       "      <td>2025-03-12</td>\n",
       "      <td>1257.050048828125</td>\n",
       "      <td>1263.0</td>\n",
       "      <td>1244.0</td>\n",
       "      <td>1258.0</td>\n",
       "      <td>11977555</td>\n",
       "    </tr>\n",
       "    <tr>\n",
       "      <th>246</th>\n",
       "      <td>2025-03-13</td>\n",
       "      <td>1247.9000244140625</td>\n",
       "      <td>1264.1500244140625</td>\n",
       "      <td>1243.8499755859375</td>\n",
       "      <td>1260.050048828125</td>\n",
       "      <td>9505270</td>\n",
       "    </tr>\n",
       "    <tr>\n",
       "      <th>247</th>\n",
       "      <td>2025-03-17</td>\n",
       "      <td>1238.8499755859375</td>\n",
       "      <td>1257.4000244140625</td>\n",
       "      <td>1233.0999755859375</td>\n",
       "      <td>1242.1500244140625</td>\n",
       "      <td>16640917</td>\n",
       "    </tr>\n",
       "    <tr>\n",
       "      <th>248</th>\n",
       "      <td>2025-03-18</td>\n",
       "      <td>1238.8499755859375</td>\n",
       "      <td>1238.8499755859375</td>\n",
       "      <td>1238.8499755859375</td>\n",
       "      <td>1238.8499755859375</td>\n",
       "      <td>0</td>\n",
       "    </tr>\n",
       "    <tr>\n",
       "      <th>249</th>\n",
       "      <td>2025-03-19</td>\n",
       "      <td>1244.199951171875</td>\n",
       "      <td>1251.800048828125</td>\n",
       "      <td>1238.800048828125</td>\n",
       "      <td>1241.050048828125</td>\n",
       "      <td>5960952</td>\n",
       "    </tr>\n",
       "  </tbody>\n",
       "</table>\n",
       "<p>250 rows × 6 columns</p>\n",
       "</div>"
      ],
      "text/plain": [
       "          Price               Close                High                 Low  \\\n",
       "0        Ticker         RELIANCE.NS         RELIANCE.NS         RELIANCE.NS   \n",
       "1          Date                 NaN                 NaN                 NaN   \n",
       "2    2024-03-19  1420.4290771484375   1432.737278814348  1412.4561372310984   \n",
       "3    2024-03-20   1438.866455078125  1440.1122269007035  1419.2082000493178   \n",
       "4    2024-03-21  1446.0670166015625  1452.9686412795918  1439.7883995028772   \n",
       "..          ...                 ...                 ...                 ...   \n",
       "245  2025-03-12   1257.050048828125              1263.0              1244.0   \n",
       "246  2025-03-13  1247.9000244140625  1264.1500244140625  1243.8499755859375   \n",
       "247  2025-03-17  1238.8499755859375  1257.4000244140625  1233.0999755859375   \n",
       "248  2025-03-18  1238.8499755859375  1238.8499755859375  1238.8499755859375   \n",
       "249  2025-03-19   1244.199951171875   1251.800048828125   1238.800048828125   \n",
       "\n",
       "                   Open       Volume  \n",
       "0           RELIANCE.NS  RELIANCE.NS  \n",
       "1                   NaN          NaN  \n",
       "2    1423.9172383622733      8275764  \n",
       "3    1423.1198505777713      8488806  \n",
       "4      1447.61182235093     13006936  \n",
       "..                  ...          ...  \n",
       "245              1258.0     11977555  \n",
       "246   1260.050048828125      9505270  \n",
       "247  1242.1500244140625     16640917  \n",
       "248  1238.8499755859375            0  \n",
       "249   1241.050048828125      5960952  \n",
       "\n",
       "[250 rows x 6 columns]"
      ]
     },
     "execution_count": 50,
     "metadata": {},
     "output_type": "execute_result"
    }
   ],
   "source": [
    "import pandas as pd\n",
    "\n",
    "df = pd.read_csv('Reliance_1Y_Data.csv')\n",
    "df"
   ]
  },
  {
   "cell_type": "code",
   "execution_count": 51,
   "id": "6fd754eb-0401-4bb1-b7c0-9adcbd7904f0",
   "metadata": {},
   "outputs": [
    {
     "name": "stdout",
     "output_type": "stream",
     "text": [
      "Price     0\n",
      "Close     1\n",
      "High      1\n",
      "Low       1\n",
      "Open      1\n",
      "Volume    1\n",
      "dtype: int64\n"
     ]
    }
   ],
   "source": [
    "print(df.isnull().sum())\n"
   ]
  },
  {
   "cell_type": "code",
   "execution_count": 52,
   "id": "a02cdb58-5808-4574-a6f0-038f3a3815b2",
   "metadata": {},
   "outputs": [],
   "source": [
    "df.dropna(inplace=True)\n",
    "df.fillna(method='ffill', inplace=True)\n"
   ]
  },
  {
   "cell_type": "code",
   "execution_count": 53,
   "id": "c6af53fa-6966-4abb-8cc1-096859efc689",
   "metadata": {},
   "outputs": [
    {
     "name": "stdout",
     "output_type": "stream",
     "text": [
      "Column Names: ['Price', 'Close', 'High', 'Low', 'Open', 'Volume']\n"
     ]
    }
   ],
   "source": [
    "import pandas as pd\n",
    "\n",
    "df = pd.read_csv(\"Reliance_1Y_Data.csv\")\n",
    "\n",
    "print(\"Column Names:\", df.columns.tolist())"
   ]
  },
  {
   "cell_type": "code",
   "execution_count": 54,
   "id": "74f9f624-a823-4a04-8984-ac6df1f3515a",
   "metadata": {},
   "outputs": [
    {
     "name": "stdout",
     "output_type": "stream",
     "text": [
      "<class 'pandas.core.frame.DataFrame'>\n",
      "DatetimeIndex: 248 entries, 2024-03-19 to 2025-03-19\n",
      "Data columns (total 5 columns):\n",
      " #   Column      Non-Null Count  Dtype  \n",
      "---  ------      --------------  -----  \n",
      " 0   Unnamed: 1  248 non-null    float64\n",
      " 1   Unnamed: 2  248 non-null    float64\n",
      " 2   Unnamed: 3  248 non-null    float64\n",
      " 3   Unnamed: 4  248 non-null    float64\n",
      " 4   Unnamed: 5  248 non-null    int64  \n",
      "dtypes: float64(4), int64(1)\n",
      "memory usage: 11.6 KB\n",
      "None\n",
      "             Unnamed: 1   Unnamed: 2   Unnamed: 3   Unnamed: 4  Unnamed: 5\n",
      "Date                                                                      \n",
      "2024-03-19  1420.429077  1432.737279  1412.456137  1423.917238     8275764\n",
      "2024-03-20  1438.866455  1440.112227  1419.208200  1423.119851     8488806\n",
      "2024-03-21  1446.067017  1452.968641  1439.788400  1447.611822    13006936\n",
      "2024-03-22  1450.103394  1455.061541  1442.454306  1445.070427    19527608\n",
      "2024-03-26  1436.698853  1447.487310  1434.132611  1440.112316    11415906\n"
     ]
    }
   ],
   "source": [
    "import pandas as pd\n",
    "\n",
    "# Read the CSV, skipping the first two rows\n",
    "df = pd.read_csv(\"Reliance_1Y_Data.csv\", skiprows=2)\n",
    "\n",
    "# Convert 'Date' column to datetime format\n",
    "df[\"Date\"] = pd.to_datetime(df[\"Date\"], errors=\"coerce\")\n",
    "\n",
    "# Set 'Date' as the index\n",
    "df.set_index(\"Date\", inplace=True)\n",
    "\n",
    "# Print cleaned data\n",
    "print(df.info())\n",
    "print(df.head())\n",
    "\n"
   ]
  },
  {
   "cell_type": "code",
   "execution_count": 55,
   "id": "b622015a-ebdf-4c41-9732-f97aa1f62e85",
   "metadata": {},
   "outputs": [
    {
     "data": {
      "text/plain": [
       "<bound method NDFrame.head of              Unnamed: 1   Unnamed: 2   Unnamed: 3   Unnamed: 4  Unnamed: 5\n",
       "Date                                                                      \n",
       "2024-03-19  1420.429077  1432.737279  1412.456137  1423.917238     8275764\n",
       "2024-03-20  1438.866455  1440.112227  1419.208200  1423.119851     8488806\n",
       "2024-03-21  1446.067017  1452.968641  1439.788400  1447.611822    13006936\n",
       "2024-03-22  1450.103394  1455.061541  1442.454306  1445.070427    19527608\n",
       "2024-03-26  1436.698853  1447.487310  1434.132611  1440.112316    11415906\n",
       "...                 ...          ...          ...          ...         ...\n",
       "2025-03-12  1257.050049  1263.000000  1244.000000  1258.000000    11977555\n",
       "2025-03-13  1247.900024  1264.150024  1243.849976  1260.050049     9505270\n",
       "2025-03-17  1238.849976  1257.400024  1233.099976  1242.150024    16640917\n",
       "2025-03-18  1238.849976  1238.849976  1238.849976  1238.849976           0\n",
       "2025-03-19  1244.199951  1251.800049  1238.800049  1241.050049     5960952\n",
       "\n",
       "[248 rows x 5 columns]>"
      ]
     },
     "execution_count": 55,
     "metadata": {},
     "output_type": "execute_result"
    }
   ],
   "source": [
    "df.head"
   ]
  },
  {
   "cell_type": "code",
   "execution_count": 56,
   "id": "025a3732-16ad-488d-ac4f-351802f0f870",
   "metadata": {},
   "outputs": [
    {
     "name": "stdout",
     "output_type": "stream",
     "text": [
      "Index(['Date', 'Unnamed: 1', 'Unnamed: 2', 'Unnamed: 3', 'Unnamed: 4',\n",
      "       'Unnamed: 5'],\n",
      "      dtype='object')\n"
     ]
    }
   ],
   "source": [
    "import pandas as pd\n",
    "\n",
    "# Read the CSV, skipping the first two rows\n",
    "df = pd.read_csv(\"Reliance_1Y_Data.csv\", skiprows=2)\n",
    "\n",
    "# Check the column names\n",
    "print(df.columns)  # Verify column names\n"
   ]
  },
  {
   "cell_type": "code",
   "execution_count": 57,
   "id": "411abca5-0e66-42de-9ba7-36d0ee8106f9",
   "metadata": {},
   "outputs": [
    {
     "name": "stdout",
     "output_type": "stream",
     "text": [
      "<class 'pandas.core.frame.DataFrame'>\n",
      "DatetimeIndex: 249 entries, NaT to 2025-03-19\n",
      "Data columns (total 5 columns):\n",
      " #   Column  Non-Null Count  Dtype  \n",
      "---  ------  --------------  -----  \n",
      " 0   Close   248 non-null    float64\n",
      " 1   High    248 non-null    float64\n",
      " 2   Low     248 non-null    float64\n",
      " 3   Open    248 non-null    float64\n",
      " 4   Volume  248 non-null    float64\n",
      "dtypes: float64(5)\n",
      "memory usage: 11.7 KB\n",
      "None\n",
      "                  Close         High          Low         Open      Volume\n",
      "Date                                                                      \n",
      "NaT                 NaN          NaN          NaN          NaN         NaN\n",
      "2024-03-19  1420.429077  1432.737279  1412.456137  1423.917238   8275764.0\n",
      "2024-03-20  1438.866455  1440.112227  1419.208200  1423.119851   8488806.0\n",
      "2024-03-21  1446.067017  1452.968641  1439.788400  1447.611822  13006936.0\n",
      "2024-03-22  1450.103394  1455.061541  1442.454306  1445.070427  19527608.0\n"
     ]
    }
   ],
   "source": [
    "import pandas as pd\n",
    "\n",
    "# Read the CSV while skipping the first row only\n",
    "df = pd.read_csv(\"Reliance_1Y_Data.csv\", skiprows=1)\n",
    "\n",
    "# Rename columns properly (assuming first row is correct)\n",
    "df.columns = [\"Date\", \"Close\", \"High\", \"Low\", \"Open\", \"Volume\"]\n",
    "\n",
    "# Drop any row where 'Date' is missing\n",
    "df.dropna(subset=[\"Date\"], inplace=True)\n",
    "\n",
    "# Convert 'Date' column to datetime format\n",
    "df[\"Date\"] = pd.to_datetime(df[\"Date\"], errors=\"coerce\")\n",
    "\n",
    "# Set 'Date' as index\n",
    "df.set_index(\"Date\", inplace=True)\n",
    "\n",
    "# Print summary\n",
    "print(df.info())\n",
    "print(df.head())\n"
   ]
  },
  {
   "cell_type": "code",
   "execution_count": 58,
   "id": "9e1d1fff-79b1-4592-a549-2b8de1cbedaf",
   "metadata": {},
   "outputs": [
    {
     "data": {
      "text/html": [
       "<div>\n",
       "<style scoped>\n",
       "    .dataframe tbody tr th:only-of-type {\n",
       "        vertical-align: middle;\n",
       "    }\n",
       "\n",
       "    .dataframe tbody tr th {\n",
       "        vertical-align: top;\n",
       "    }\n",
       "\n",
       "    .dataframe thead th {\n",
       "        text-align: right;\n",
       "    }\n",
       "</style>\n",
       "<table border=\"1\" class=\"dataframe\">\n",
       "  <thead>\n",
       "    <tr style=\"text-align: right;\">\n",
       "      <th></th>\n",
       "      <th>Open-Close</th>\n",
       "      <th>High-Low</th>\n",
       "    </tr>\n",
       "    <tr>\n",
       "      <th>Date</th>\n",
       "      <th></th>\n",
       "      <th></th>\n",
       "    </tr>\n",
       "  </thead>\n",
       "  <tbody>\n",
       "    <tr>\n",
       "      <th>NaT</th>\n",
       "      <td>NaN</td>\n",
       "      <td>NaN</td>\n",
       "    </tr>\n",
       "    <tr>\n",
       "      <th>2024-03-19</th>\n",
       "      <td>3.488161</td>\n",
       "      <td>20.281142</td>\n",
       "    </tr>\n",
       "    <tr>\n",
       "      <th>2024-03-20</th>\n",
       "      <td>-15.746605</td>\n",
       "      <td>20.904027</td>\n",
       "    </tr>\n",
       "    <tr>\n",
       "      <th>2024-03-21</th>\n",
       "      <td>1.544806</td>\n",
       "      <td>13.180242</td>\n",
       "    </tr>\n",
       "    <tr>\n",
       "      <th>2024-03-22</th>\n",
       "      <td>-5.032967</td>\n",
       "      <td>12.607236</td>\n",
       "    </tr>\n",
       "  </tbody>\n",
       "</table>\n",
       "</div>"
      ],
      "text/plain": [
       "            Open-Close   High-Low\n",
       "Date                             \n",
       "NaT                NaN        NaN\n",
       "2024-03-19    3.488161  20.281142\n",
       "2024-03-20  -15.746605  20.904027\n",
       "2024-03-21    1.544806  13.180242\n",
       "2024-03-22   -5.032967  12.607236"
      ]
     },
     "execution_count": 58,
     "metadata": {},
     "output_type": "execute_result"
    }
   ],
   "source": [
    "df['Open-Close'] = df.Open - df.Close\n",
    "df['High-Low'] = df.High - df.Low\n",
    "\n",
    "# Store all predictor variables in a variable X\n",
    "X = df[['Open-Close', 'High-Low']]\n",
    "X.head()\n"
   ]
  },
  {
   "cell_type": "code",
   "execution_count": 59,
   "id": "272efbfd-f989-4881-874d-6b39e29e3b92",
   "metadata": {},
   "outputs": [
    {
     "data": {
      "text/plain": [
       "array([0, 1, 1, 1, 0, 1, 0, 0, 1, 0, 0, 0, 1, 0, 1, 0, 0, 1, 0, 1, 1, 0,\n",
       "       0, 1, 0, 1, 1, 0, 0, 0, 0, 1, 0, 1, 0, 1, 0, 1, 1, 1, 1, 1, 0, 0,\n",
       "       0, 0, 0, 1, 1, 0, 1, 1, 1, 1, 0, 1, 1, 1, 1, 0, 1, 0, 0, 1, 1, 1,\n",
       "       1, 0, 1, 0, 1, 1, 1, 0, 0, 0, 1, 1, 0, 1, 0, 0, 0, 1, 0, 1, 1, 0,\n",
       "       0, 1, 0, 0, 1, 1, 0, 1, 0, 1, 0, 1, 1, 1, 1, 0, 1, 1, 0, 0, 1, 0,\n",
       "       1, 0, 1, 0, 0, 0, 0, 0, 1, 0, 0, 1, 0, 1, 1, 1, 0, 1, 1, 1, 0, 0,\n",
       "       0, 0, 0, 1, 0, 0, 1, 1, 0, 1, 1, 1, 1, 0, 0, 1, 0, 1, 1, 1, 0, 1,\n",
       "       0, 1, 1, 0, 0, 0, 1, 0, 1, 0, 0, 0, 1, 1, 1, 0, 0, 1, 1, 1, 0, 1,\n",
       "       0, 0, 0, 0, 0, 1, 0, 0, 1, 0, 0, 1, 1, 0, 1, 0, 1, 1, 1, 1, 0, 1,\n",
       "       1, 0, 0, 0, 0, 1, 1, 1, 1, 0, 1, 0, 0, 0, 1, 1, 1, 1, 0, 0, 1, 0,\n",
       "       1, 0, 0, 0, 0, 0, 1, 1, 1, 1, 1, 0, 0, 0, 1, 0, 0, 0, 1, 1, 1, 0,\n",
       "       1, 1, 0, 0, 0, 1, 0])"
      ]
     },
     "execution_count": 59,
     "metadata": {},
     "output_type": "execute_result"
    }
   ],
   "source": [
    "# Target variables\n",
    "import numpy as np\n",
    "y = np.where(df['Close'].shift(-1) > df['Close'], 1, 0)\n",
    "y"
   ]
  },
  {
   "cell_type": "code",
   "execution_count": 76,
   "id": "154d6941-0ef5-4b29-9438-683c56eec354",
   "metadata": {},
   "outputs": [],
   "source": [
    "split_percentage = 0.8\n",
    "split = int(split_percentage*len(df))\n",
    "\n",
    "# Train data set\n",
    "X_train = X[:split]\n",
    "y_train = y[:split]\n",
    "\n",
    "# Test data set\n",
    "X_test = X[split:]\n",
    "y_test = y[split:]\n"
   ]
  },
  {
   "cell_type": "code",
   "execution_count": 86,
   "id": "f61983ff-6e77-477d-9c6f-dea6f7b1950f",
   "metadata": {},
   "outputs": [],
   "source": [
    "from sklearn.impute import SimpleImputer\n",
    "\n",
    "imputer = SimpleImputer(strategy=\"mean\")  # Fill NaN with column mean\n",
    "X_train = pd.DataFrame(imputer.fit_transform(X_train), columns=X_train.columns)\n",
    "# No need to modify y_train because no rows are dropped"
   ]
  },
  {
   "cell_type": "code",
   "execution_count": 92,
   "id": "710e19e9-6b46-4728-b080-5324f3cba073",
   "metadata": {},
   "outputs": [
    {
     "name": "stdout",
     "output_type": "stream",
     "text": [
      "Shape of X_train: (198, 2)\n",
      "Shape of y_train: (199,)\n"
     ]
    }
   ],
   "source": [
    "print(\"Shape of X_train:\", X_train.shape)\n",
    "print(\"Shape of y_train:\", y_train.shape)\n"
   ]
  },
  {
   "cell_type": "code",
   "execution_count": 96,
   "id": "2a562b8b-bf82-41e9-b318-dc7797f05681",
   "metadata": {},
   "outputs": [],
   "source": [
    "X_train = X_train.dropna()  # Drop NaN values in X_train\n",
    "\n",
    "# Keep only corresponding y_train values\n",
    "y_train = y_train[X_train.index.to_numpy()]\n"
   ]
  },
  {
   "cell_type": "code",
   "execution_count": 98,
   "id": "9c95bd70-b301-4e75-b09b-5d0382e3d9f3",
   "metadata": {},
   "outputs": [
    {
     "name": "stdout",
     "output_type": "stream",
     "text": [
      "X_train shape: (198, 2)\n",
      "y_train shape: (198,)\n"
     ]
    }
   ],
   "source": [
    "print(\"X_train shape:\", X_train.shape)\n",
    "print(\"y_train shape:\", y_train.shape)\n"
   ]
  },
  {
   "cell_type": "code",
   "execution_count": 112,
   "id": "75a3c5c6-6c70-4e28-bcc7-517c51b94c01",
   "metadata": {},
   "outputs": [],
   "source": [
    "from sklearn.impute import SimpleImputer\n",
    "\n",
    "# Handle NaN values in X_train\n",
    "imputer = SimpleImputer(strategy='mean')\n",
    "X_train = imputer.fit_transform(X_train)\n",
    "\n",
    "cls = SVC().fit(X_train, y_train)  # Train the model\n",
    "\n",
    "# Handle NaN values in X before prediction\n",
    "X = imputer.transform(X)\n",
    "\n",
    "df['Predicted_Signal'] = cls.predict(X)  # Make predictions\n"
   ]
  },
  {
   "cell_type": "code",
   "execution_count": 126,
   "id": "8496d500-0dbe-48cd-92c8-1edf057c48bf",
   "metadata": {},
   "outputs": [
    {
     "data": {
      "image/png": "[encoded data removed]",
      "text/plain": [
       "<Figure size 1000x500 with 1 Axes>"
      ]
     },
     "metadata": {},
     "output_type": "display_data"
    }
   ],
   "source": [
    "# Calculate daily returns\n",
    "df['Return'] = df['Close'].pct_change()\n",
    "\n",
    "# Calculate strategy returns\n",
    "df['Strategy_Return'] = df['Return'] * df['Predicted_Signal'].shift(1)\n",
    "\n",
    "# Calculate cumulative returns\n",
    "df['Cum_Ret'] = df['Return'].cumsum()\n",
    "df['Cum_Strategy'] = df['Strategy_Return'].cumsum()\n",
    "\n",
    "# Drop NaN values before plotting (optional)\n",
    "df.dropna(inplace=True)\n",
    "\n",
    "# Plot strategy cumulative returns\n",
    "import matplotlib.pyplot as plt\n",
    "%matplotlib inline\n",
    "\n",
    "plt.figure(figsize=(10, 5))\n",
    "plt.plot(df['Cum_Ret'], color='red', label='Market Return')\n",
    "plt.plot(df['Cum_Strategy'], color='blue', label='Strategy Return')\n",
    "plt.legend()\n",
    "plt.title(\"Cumulative Returns vs. Strategy Returns\")\n",
    "plt.xlabel(\"Time\")\n",
    "plt.ylabel(\"Returns\")\n",
    "plt.show()\n"
   ]
  },
  {
   "cell_type": "code",
   "execution_count": null,
   "id": "c13dcc4a-37ac-4a70-9c19-4afd92952ac6",
   "metadata": {},
   "outputs": [],
   "source": []
  }
 ],
 "metadata": {
  "kernelspec": {
   "display_name": "Python 3 (ipykernel)",
   "language": "python",
   "name": "python3"
  },
  "language_info": {
   "codemirror_mode": {
    "name": "ipython",
    "version": 3
   },
   "file_extension": ".py",
   "mimetype": "text/x-python",
   "name": "python",
   "nbconvert_exporter": "python",
   "pygments_lexer": "ipython3",
   "version": "3.12.4"
  }
 },
 "nbformat": 4,
 "nbformat_minor": 5
}
